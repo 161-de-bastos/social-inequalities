{
 "cells": [
  {
   "cell_type": "markdown",
   "id": "eb245b19",
   "metadata": {},
   "source": [
    "# Experimentos iniciales"
   ]
  },
  {
   "cell_type": "code",
   "execution_count": null,
   "id": "5a455863",
   "metadata": {},
   "outputs": [],
   "source": [
    "from multipoverty.main import pipeline\n",
    "from multipoverty.trials.utils import read_dataset, rescale\n",
    "from multipoverty.trials.kmeans import speedup_k\n",
    "from sklearn.preprocessing import StandardScaler"
   ]
  },
  {
   "cell_type": "code",
   "execution_count": null,
   "id": "42b1de02",
   "metadata": {},
   "outputs": [],
   "source": [
    "X = rescale(\n",
    "    read_dataset('df_multidimensional_2014_2024_clustering.csv'),\n",
    "    StandardScaler()\n",
    ")"
   ]
  },
  {
   "cell_type": "markdown",
   "id": "f10bac49",
   "metadata": {},
   "source": [
    "### 1. K-Means"
   ]
  },
  {
   "cell_type": "code",
   "execution_count": null,
   "id": "c6103b5c",
   "metadata": {},
   "outputs": [],
   "source": [
    "pipeline(X = X, tag = 'kmeans')"
   ]
  },
  {
   "cell_type": "code",
   "execution_count": null,
   "id": "1860a214",
   "metadata": {},
   "outputs": [],
   "source": [
    "speedup_k(X,range(2,11))"
   ]
  },
  {
   "cell_type": "markdown",
   "id": "b4cc997f",
   "metadata": {},
   "source": [
    "### 2. DBSCAN"
   ]
  },
  {
   "cell_type": "code",
   "execution_count": null,
   "id": "e737f4cb",
   "metadata": {},
   "outputs": [],
   "source": [
    "pipeline(X = X, tag = 'dbscan')"
   ]
  }
 ],
 "metadata": {
  "kernelspec": {
   "display_name": ".venv (3.13.7)",
   "language": "python",
   "name": "python3"
  },
  "language_info": {
   "codemirror_mode": {
    "name": "ipython",
    "version": 3
   },
   "file_extension": ".py",
   "mimetype": "text/x-python",
   "name": "python",
   "nbconvert_exporter": "python",
   "pygments_lexer": "ipython3",
   "version": "3.13.7"
  }
 },
 "nbformat": 4,
 "nbformat_minor": 5
}
