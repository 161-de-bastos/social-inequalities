{
 "cells": [
  {
   "cell_type": "markdown",
   "id": "eb245b19",
   "metadata": {},
   "source": [
    "# Experimentos iniciales"
   ]
  },
  {
   "cell_type": "code",
   "execution_count": 1,
   "id": "5a455863",
   "metadata": {},
   "outputs": [],
   "source": [
    "from multipoverty.trials.main import pipeline\n",
    "from multipoverty.trials.utils import read_dataset, rescale\n",
    "from sklearn.preprocessing import StandardScaler"
   ]
  },
  {
   "cell_type": "code",
   "execution_count": 2,
   "id": "42b1de02",
   "metadata": {},
   "outputs": [],
   "source": [
    "X = rescale(\n",
    "    read_dataset('df_multidimensional_2014_2024_clustering.csv'),\n",
    "    StandardScaler())"
   ]
  },
  {
   "cell_type": "markdown",
   "id": "f10bac49",
   "metadata": {},
   "source": [
    "### 1. K-Means"
   ]
  },
  {
   "cell_type": "code",
   "execution_count": null,
   "id": "c6103b5c",
   "metadata": {},
   "outputs": [
    {
     "name": "stdout",
     "output_type": "stream",
     "text": [
      "Dataset Shape: (91431, 19)\n",
      "===== INICIANDO PIPELINE KMEANS ===== [INICIO: 05:46:06]\n",
      "k=2 -> Silhouette=0.2202\n",
      "k=3 -> Silhouette=0.2207\n",
      "k=5 -> Silhouette=0.2227\n",
      "k=4 -> Silhouette=0.2228\n",
      "k=6 -> Silhouette=0.1869\n",
      "k=7 -> Silhouette=0.2207\n",
      "k=8 -> Silhouette=0.1658\n",
      "k=9 -> Silhouette=0.2130\n",
      "k=10 -> Silhouette=0.2288\n",
      "\n",
      ">>> Mejor número de clusters: k=10 (Silhouette=0.2288)\n",
      "\n",
      "[05:53:52] Ejecutando KMeans Serial con k=10, bloqueando blas\n",
      "Serial -> Tiempo: 0.6290s\n",
      "Silhouette: 0.2288\n",
      "\n",
      "[05:54:57] Ejecutando KMeans Paralelo con k=10, bloqueando blas\n",
      "Paralelo -> Tiempo: 1.3439s\n"
     ]
    }
   ],
   "source": [
    "pipeline(X = X, tag = 'kmeans')"
   ]
  }
 ],
 "metadata": {
  "kernelspec": {
   "display_name": ".venv (3.13.7)",
   "language": "python",
   "name": "python3"
  },
  "language_info": {
   "codemirror_mode": {
    "name": "ipython",
    "version": 3
   },
   "file_extension": ".py",
   "mimetype": "text/x-python",
   "name": "python",
   "nbconvert_exporter": "python",
   "pygments_lexer": "ipython3",
   "version": "3.13.7"
  }
 },
 "nbformat": 4,
 "nbformat_minor": 5
}
